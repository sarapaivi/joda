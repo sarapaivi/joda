{
 "cells": [
  {
   "cell_type": "markdown",
   "metadata": {},
   "source": [
    "## Johdatus datatieteeseen\n",
    "# Oppimispäiväkirja"
   ]
  },
  {
   "cell_type": "markdown",
   "metadata": {},
   "source": [
    "## Sara-Päivi Paukkeri\n",
    "\n",
    "\n",
    "\n",
    "### Viikko 1"
   ]
  },
  {
   "cell_type": "markdown",
   "metadata": {},
   "source": [
    "\n",
    "\n",
    "\n",
    "\n",
    "Kerro osallistuitko viikon opetukseen ja kuvaa päiväkirjan laatimisessa käyttämäsi aineisto.\n",
    "Tiivistä jokaisen luentoviikon keskeiset asiat tekstiksi.\n",
    "Kirjaa lisäksi ylös viisi oivallusta tai tärkeintä oppimaasi asiaa erilliseksi listaksi.\n",
    "Listaa yhdestä kolmeen kehityskohdetta tai flippausvinkkiä luentoviikolle.\n",
    "Kokoa noin kymmenen koodirivin demo viikon aikana oppimastasi.\n",
    "\n",
    "\n",
    "\n",
    "\n",
    "Ensimmäisellä viikolla osallistuis sekä luennolle että perjantain demo-luennolle. Aikaisemmin olen käyttänyt jupyteria vain omalla koneella, joten ensimmäiseksi piti opetella tekemään työkirjasta nettiversio.\n",
    "\n",
    "\n",
    "Viisi tärkeintä oppimaani asiaa (ei välttämättä tärkeysjärjestyksessä):\n",
    "1. Data-analyytikko tarviitsee periaatteessa ophjelmointitaitoa, liiketoimintaosaamista, tilastotollista analyysia ja kommunikaatiotaitoja ja datalähtöistä viestintää. Oikeasti näitä kaikkia ei välttämättä tarvitse osata, vaan työtehtäviä voi valita oman osaamisen mukaan.\n",
    "2. Usein tarinat ovat dataa vahvempia. Datan käsittelyllä voidaan saada hyvin eri näköisiä tilastoja, mutta hyvällä tarinalla saadaan tilasto näkymään hyvin erilaisissa valoissa. Tämä voi olla vaarallista, sillä tarinat ovat hyvi helposti usottavia (Kahneman: Ihminen pyrkii tekemään kaikesta loogisen tarinan??)\n"
   ]
  },
  {
   "cell_type": "markdown",
   "metadata": {},
   "source": [
    "### Viikko 2\n"
   ]
  },
  {
   "cell_type": "code",
   "execution_count": null,
   "metadata": {},
   "outputs": [],
   "source": [
    "Toisen viikon luennolla käsiteltiin data science -prosessia ja ryömijöitä sekä raapijoita. Demoluennolla\n",
    "\n",
    "Tämän kursin lähtötietoina on ..., jonka pohjalta esim html:ään perustuvat esimerkit \n",
    "    ei kyllä taittuis tuosta noin vaan. Onneksi olen ite sattunut käytmään useampia kursseja\n",
    "    "
   ]
  }
 ],
 "metadata": {
  "kernelspec": {
   "display_name": "Python 3",
   "language": "python",
   "name": "python3"
  },
  "language_info": {
   "codemirror_mode": {
    "name": "ipython",
    "version": 3
   },
   "file_extension": ".py",
   "mimetype": "text/x-python",
   "name": "python",
   "nbconvert_exporter": "python",
   "pygments_lexer": "ipython3",
   "version": "3.6.2"
  }
 },
 "nbformat": 4,
 "nbformat_minor": 2
}
