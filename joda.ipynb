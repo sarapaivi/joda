{
 "cells": [
  {
   "cell_type": "markdown",
   "metadata": {},
   "source": [
    "Ohje käyttäjälle:\n",
    "\n",
    "- Aja ensin kaikki työkirjan solut\n",
    "- Kartan yläpuolella olevasta valikosta voit suodattaa hakutuloksia:\n",
    "    - Osoite: Anna osoite, jonka ympäristöstä haluat nähdä asunnot\n",
    "    - Kaupunki: Kaupunki, jossa annettu osoite sijaitsee\n",
    "    - Etäisyys: Syötä etsittyjen asuntojen maksimietäisyys kilometreinä annetusta osoitteesta. Käytä tarvittaessa\n",
    "      desimaalierottimena pistettä.\n",
    "    - Asuntotyyppi: Valitse alasvetovalikosta haluamasi asuntotyyppi\n",
    "- Klikkaamalla kartalla näkyvää paikkamerkkiä näet tietoja asunnosta\n",
    "- Voit halutettasi syöttää vain kaupungin\n",
    "- Asunnon sijaintimerkki on vihreä, jos pyyntihinta on ennustetta matalampi, muutoin se on punainen.\n",
    "\n",
    "Raportti sisältää Tampereen omakoti- ja erillistalojen tiedot, jotka on ilmoitettu etuovi.com:ssa \n",
    "riittävän kattavin tiedoin"
   ]
  },
  {
   "cell_type": "code",
   "execution_count": 1,
   "metadata": {},
   "outputs": [],
   "source": [
    "from __future__ import print_function\n",
    "from ipywidgets import interact, interactive, fixed, interact_manual\n",
    "import ipywidgets as widgets\n",
    "import pandas as pd\n",
    "import matplotlib.pyplot as plt\n",
    "import numpy as np\n",
    "import json\n",
    "import haversine as hs\n",
    "from haversine import Unit\n",
    "import folium\n",
    "from folium.plugins import MarkerCluster\n",
    "from geopy.geocoders import Nominatim\n",
    "import pickle\n"
   ]
  },
  {
   "cell_type": "code",
   "execution_count": 5,
   "metadata": {},
   "outputs": [],
   "source": [
    "# Load model from file\n",
    "with open('mlModel.pkl', 'rb') as file:\n",
    "    lireg = pickle.load(file)\n",
    "\n",
    "# read data\n",
    "d = open('dfTampere.json')\n",
    "data = json.load(d)\n",
    "d.close()\n",
    "dfTampere = pd.DataFrame(data)\n",
    "\n",
    "\n",
    "geolocator = Nominatim(user_agent = \"joda ht\")"
   ]
  },
  {
   "cell_type": "code",
   "execution_count": 6,
   "metadata": {},
   "outputs": [
    {
     "data": {
      "application/vnd.jupyter.widget-view+json": {
       "model_id": "1077342cc0474fffa83ae02c43ff1991",
       "version_major": 2,
       "version_minor": 0
      },
      "text/plain": [
       "interactive(children=(Text(value='Keskustori 1', description='Osoite'), Text(value='Tampere', description='Kau…"
      ]
     },
     "metadata": {},
     "output_type": "display_data"
    }
   ],
   "source": [
    "@interact\n",
    "def show_houses(Osoite = 'Keskustori 1', Kaupunki = 'Tampere', Etäisyys=\"20\", \\\n",
    "                Asuntotyyppi = ['Kaikki','Omakotitalo', 'Erillistalo']):\n",
    "    d={'Address': [Osoite], 'City':[Kaupunki]}\n",
    "    dist = pd.DataFrame(data=d)\n",
    "\n",
    "    dist['Address_geo'] = dist['Address'] + \", \" + dist['City'] + \", Finland\"\n",
    "\n",
    "    dist['Address_loc'] = dist['Address_geo'].apply(geolocator.geocode)\n",
    "    # select koordinates from loc\n",
    "    dist['Address_point'] = dist['Address_loc'].apply(lambda loc: tuple(loc.point) if loc else None)\n",
    "    #split coordinates to latitude, longitude and altitude\n",
    "    dist[['lat', 'lon', 'altitude']] = pd.DataFrame(dist['Address_point'].to_list(), index=dist.index)\n",
    "    center = (dist['lat'][0], dist['lon'][0])\n",
    "\n",
    "    #Create the map\n",
    "    my_map = folium.Map(location = center, zoom_start = 10)\n",
    "    \n",
    "    # Add addresses to the map\n",
    "    for index, row in dfTampere.iterrows():\n",
    "        hinta=[]\n",
    "        hinta.append(np.array(row[[0,1,2,3,4]]))\n",
    "        if lireg.predict(hinta)>row.price: \n",
    "            color = '#9FFF33'\n",
    "        else:\n",
    "            color = '#FF3355'\n",
    "        if Asuntotyyppi == 'Kaikki':\n",
    "            if hs.haversine(center,(row['lat'],row['lon']))<float(Etäisyys):\n",
    "                if row.lat != None:\n",
    "                    folium.Marker([row.lat,row.lon], popup =\\\n",
    "                      f'{row.house_type} \\n Hinta: {row.price}€ \\n Koko: {row[\"size\"]} m2 \\n Huonejako: \\\n",
    "                      {row.rooms}', icon=folium.Icon(color='black',icon_color=color)).add_to(my_map)\n",
    "        else:\n",
    "            if hs.haversine(center,(row['lat'],row['lon']))<float(Etäisyys) and row['house_type'] == Asuntotyyppi:\n",
    "                if row.lat != None:\n",
    "                    folium.Marker([row.lat,row.lon], popup =\\\n",
    "                      f'{row.house_type} \\n Hinta: {row.price}€ \\n Koko: {row[\"size\"]} m2 \\n Huonejako: \\\n",
    "                      {row.rooms}', icon=folium.Icon(color='black',icon_color=color)).add_to(my_map)\n",
    "    \n",
    "    return my_map"
   ]
  },
  {
   "cell_type": "code",
   "execution_count": null,
   "metadata": {},
   "outputs": [],
   "source": []
  }
 ],
 "metadata": {
  "instance_type": "ml.t3.medium",
  "kernelspec": {
   "display_name": "Python 3 (Data Science)",
   "language": "python",
   "name": "python3__SAGEMAKER_INTERNAL__arn:aws:sagemaker:us-east-2:429704687514:image/datascience-1.0"
  },
  "language_info": {
   "codemirror_mode": {
    "name": "ipython",
    "version": 3
   },
   "file_extension": ".py",
   "mimetype": "text/x-python",
   "name": "python",
   "nbconvert_exporter": "python",
   "pygments_lexer": "ipython3",
   "version": "3.7.10"
  }
 },
 "nbformat": 4,
 "nbformat_minor": 4
}
